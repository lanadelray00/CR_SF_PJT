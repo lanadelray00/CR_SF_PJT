{
 "cells": [
  {
   "cell_type": "markdown",
   "id": "a89851a2",
   "metadata": {},
   "source": [
    "# Camera check"
   ]
  },
  {
   "cell_type": "code",
   "execution_count": null,
   "id": "c4efe8a5",
   "metadata": {},
   "outputs": [],
   "source": [
    "import cv2\n",
    "\n",
    "\n",
    "# 0번 카메라 열기 (기본 웹캠)\n",
    "cap = cv2.VideoCapture('/dev/video2')\n",
    "\n",
    "if not cap.isOpened():\n",
    "    print(\"❌ 카메라를 열 수 없습니다.\")\n",
    "    exit()\n",
    "\n",
    "while True:\n",
    "    ret, frame = cap.read()\n",
    "    if not ret:\n",
    "        print(\"❌ 프레임을 읽을 수 없습니다.\")\n",
    "        break\n",
    "\n",
    "    # 영상 출력\n",
    "    cv2.imshow(\"Camera\", frame)\n",
    "\n",
    "    # 'q' 키 누르면 종료\n",
    "    if cv2.waitKey(1) & 0xFF == 27:  # ESC to exit\n",
    "        break\n",
    "\n",
    "# 자원 해제\n",
    "cap.release()\n",
    "cv2.destroyAllWindows()\n"
   ]
  },
  {
   "cell_type": "markdown",
   "id": "4a1b46ea",
   "metadata": {},
   "source": [
    "# 해상도"
   ]
  },
  {
   "cell_type": "code",
   "execution_count": null,
   "id": "a636791c",
   "metadata": {},
   "outputs": [],
   "source": [
    "import cv2\n",
    "\n",
    "# 0번 카메라 열기 (필요 시 1, 2 등으로 변경)\n",
    "cap = cv2.VideoCapture(0)\n",
    "\n",
    "if not cap.isOpened():\n",
    "    print(\"카메라를 열 수 없습니다.\")\n",
    "else:\n",
    "    width  = cap.get(cv2.CAP_PROP_FRAME_WIDTH)\n",
    "    height = cap.get(cv2.CAP_PROP_FRAME_HEIGHT)\n",
    "    print(f\"현재 카메라 해상도: {int(width)} x {int(height)}\")\n",
    "\n",
    "cap.release()\n"
   ]
  },
  {
   "cell_type": "code",
   "execution_count": null,
   "id": "7a319ba0",
   "metadata": {},
   "outputs": [],
   "source": []
  },
  {
   "cell_type": "code",
   "execution_count": null,
   "id": "9d5b51e5",
   "metadata": {},
   "outputs": [],
   "source": []
  }
 ],
 "metadata": {
  "kernelspec": {
   "display_name": "genvenv",
   "language": "python",
   "name": "python3"
  },
  "language_info": {
   "codemirror_mode": {
    "name": "ipython",
    "version": 3
   },
   "file_extension": ".py",
   "mimetype": "text/x-python",
   "name": "python",
   "nbconvert_exporter": "python",
   "pygments_lexer": "ipython3",
   "version": "3.10.12"
  }
 },
 "nbformat": 4,
 "nbformat_minor": 5
}
