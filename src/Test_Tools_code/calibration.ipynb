{
 "cells": [
  {
   "cell_type": "markdown",
   "id": "dea78956",
   "metadata": {},
   "source": [
    "# CheckerBoard Calibration"
   ]
  },
  {
   "cell_type": "code",
   "execution_count": 2,
   "id": "c2cdad6b",
   "metadata": {},
   "outputs": [
    {
     "name": "stdout",
     "output_type": "stream",
     "text": [
      "이미지 개수: 34\n",
      "Camera Matrix:\n",
      " [[712.45526183   0.         314.91146599]\n",
      " [  0.         710.75098385 245.34896623]\n",
      " [  0.           0.           1.        ]]\n",
      "Distortion Coefficients:\n",
      " [[ 2.94641622e-02  7.36845855e-01 -1.18703311e-03 -4.73634944e-04\n",
      "  -2.06935893e+00]]\n",
      "RMS re-projection error: 0.31588105123422744\n"
     ]
    }
   ],
   "source": [
    "import cv2\n",
    "import numpy as np\n",
    "import glob\n",
    "\n",
    "# 체커보드 내부 코너 수 (정확히 맞춰야 함)\n",
    "CHECKERBOARD = (9, 6)  # 예: 10x7 체스판이면 (9,6)\n",
    "\n",
    "# 실제 사각형 한 칸의 크기 (단위: m, 예: 0.025m = 25mm)\n",
    "square_size = 0.0255\n",
    "\n",
    "# 월드 좌표계에서 3D 좌표\n",
    "objp = np.zeros((CHECKERBOARD[0]*CHECKERBOARD[1], 3), np.float32)\n",
    "objp[:, :2] = np.mgrid[0:CHECKERBOARD[0], 0:CHECKERBOARD[1]].T.reshape(-1, 2) * square_size\n",
    "\n",
    "objpoints = []  # 3D 점들\n",
    "imgpoints = []  # 2D 점들\n",
    "\n",
    "images = glob.glob('/home/choigh/WS/Test_Tools_code/calibration/*.jpg')  # 또는 .jpg\n",
    "print(\"이미지 개수:\", len(images))\n",
    "\n",
    "criteria = (cv2.TERM_CRITERIA_EPS + cv2.TERM_CRITERIA_MAX_ITER, 30, 0.001)\n",
    "\n",
    "for fname in images:\n",
    "    img = cv2.imread(fname)\n",
    "    gray = cv2.cvtColor(img, cv2.COLOR_BGR2GRAY)\n",
    "\n",
    "    ret, corners = cv2.findChessboardCorners(gray, CHECKERBOARD, None)\n",
    "\n",
    "    if ret:\n",
    "        # 코너 정제\n",
    "        corners2 = cv2.cornerSubPix(gray, corners, (11,11), (-1,-1), criteria)\n",
    "\n",
    "        objpoints.append(objp)\n",
    "        imgpoints.append(corners2)\n",
    "\n",
    "        # 코너 시각화 (선택)\n",
    "        cv2.drawChessboardCorners(img, CHECKERBOARD, corners, ret)\n",
    "        cv2.imshow('img', img)\n",
    "        cv2.waitKey(100)\n",
    "    else:\n",
    "        print(f\"체스판 감지 실패: {fname}\")\n",
    "\n",
    "cv2.destroyAllWindows()\n",
    "\n",
    "# ✅ gray 정의가 반복문에서 되고 있음\n",
    "# 마지막 gray 사용 → 이미지 해상도용\n",
    "ret, mtx, dist, rvecs, tvecs = cv2.calibrateCamera(\n",
    "    objpoints, imgpoints, gray.shape[::-1], None, None)\n",
    "\n",
    "print(\"Camera Matrix:\\n\", mtx)\n",
    "print(\"Distortion Coefficients:\\n\", dist)\n",
    "print(\"RMS re-projection error:\", ret) ## 결과 품질 확인\n",
    "\n",
    "# # 저장 (선택)\n",
    "# np.savez(\"/home/choigh/WS/Test_Tools_code/calib_data.npz\", mtx=mtx, dist=dist, rvecs=rvecs, tvecs=tvecs)\n"
   ]
  },
  {
   "cell_type": "markdown",
   "id": "07d86b45",
   "metadata": {},
   "source": [
    "# Camera Matrix & Distortion Coeff"
   ]
  },
  {
   "cell_type": "code",
   "execution_count": 3,
   "id": "6160f09f",
   "metadata": {},
   "outputs": [
    {
     "name": "stdout",
     "output_type": "stream",
     "text": [
      "fx, fy = 724.785668389083 720.7425294440777\n",
      "cx, cy = 322.1334139745953 235.07954611284364\n",
      "distortion = [[ 1.55359511e-02  1.11160274e+00  6.03520333e-04  3.18295542e-03\n",
      "  -3.77598056e+00]]\n"
     ]
    }
   ],
   "source": [
    "import numpy as np\n",
    "\n",
    "data = np.load('/home/choigh/WS/Test_Tools_code/calib_data.npz')\n",
    "mtx = data['mtx']\n",
    "dist = data['dist']\n",
    "\n",
    "print(\"fx, fy =\", mtx[0, 0], mtx[1, 1])\n",
    "print(\"cx, cy =\", mtx[0, 2], mtx[1, 2])\n",
    "print(\"distortion =\", dist)\n"
   ]
  }
 ],
 "metadata": {
  "kernelspec": {
   "display_name": "genvenv",
   "language": "python",
   "name": "python3"
  },
  "language_info": {
   "codemirror_mode": {
    "name": "ipython",
    "version": 3
   },
   "file_extension": ".py",
   "mimetype": "text/x-python",
   "name": "python",
   "nbconvert_exporter": "python",
   "pygments_lexer": "ipython3",
   "version": "3.10.12"
  }
 },
 "nbformat": 4,
 "nbformat_minor": 5
}
