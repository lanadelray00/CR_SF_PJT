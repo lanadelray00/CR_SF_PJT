{
 "cells": [
  {
   "cell_type": "code",
   "execution_count": 1,
   "id": "9eb8a2db",
   "metadata": {},
   "outputs": [
    {
     "name": "stdout",
     "output_type": "stream",
     "text": [
      "📸 SPACE를 누르면 사진이 저장됩니다. ESC를 누르면 종료합니다.\n",
      "✅ calibration/image_000.jpg 저장됨\n",
      "✅ calibration/image_001.jpg 저장됨\n",
      "✅ calibration/image_002.jpg 저장됨\n",
      "✅ calibration/image_003.jpg 저장됨\n",
      "✅ calibration/image_004.jpg 저장됨\n",
      "✅ calibration/image_005.jpg 저장됨\n",
      "✅ calibration/image_006.jpg 저장됨\n",
      "✅ calibration/image_007.jpg 저장됨\n",
      "✅ calibration/image_008.jpg 저장됨\n",
      "✅ calibration/image_009.jpg 저장됨\n",
      "✅ calibration/image_010.jpg 저장됨\n",
      "✅ calibration/image_011.jpg 저장됨\n",
      "✅ calibration/image_012.jpg 저장됨\n",
      "✅ calibration/image_013.jpg 저장됨\n",
      "✅ calibration/image_014.jpg 저장됨\n",
      "✅ calibration/image_015.jpg 저장됨\n",
      "✅ calibration/image_016.jpg 저장됨\n",
      "✅ calibration/image_017.jpg 저장됨\n",
      "✅ calibration/image_018.jpg 저장됨\n",
      "✅ calibration/image_019.jpg 저장됨\n",
      "✅ calibration/image_020.jpg 저장됨\n",
      "✅ calibration/image_021.jpg 저장됨\n",
      "✅ calibration/image_022.jpg 저장됨\n",
      "✅ calibration/image_023.jpg 저장됨\n",
      "✅ calibration/image_024.jpg 저장됨\n",
      "✅ calibration/image_025.jpg 저장됨\n",
      "✅ calibration/image_026.jpg 저장됨\n",
      "✅ calibration/image_027.jpg 저장됨\n",
      "✅ calibration/image_028.jpg 저장됨\n",
      "✅ calibration/image_029.jpg 저장됨\n",
      "✅ calibration/image_030.jpg 저장됨\n",
      "✅ calibration/image_031.jpg 저장됨\n",
      "✅ calibration/image_032.jpg 저장됨\n",
      "✅ calibration/image_033.jpg 저장됨\n"
     ]
    }
   ],
   "source": [
    "import cv2\n",
    "import time\n",
    "\n",
    "cap = cv2.VideoCapture(2)\n",
    "save_dir = \"calibration\"\n",
    "count = 0\n",
    "\n",
    "# 저장 폴더가 없다면 생성\n",
    "import os\n",
    "os.makedirs(save_dir, exist_ok=True)\n",
    "\n",
    "print(\"📸 SPACE를 누르면 사진이 저장됩니다. ESC를 누르면 종료합니다.\")\n",
    "\n",
    "while True:\n",
    "    ret, frame = cap.read()\n",
    "    if not ret:\n",
    "        print(\"카메라를 불러올 수 없습니다.\")\n",
    "        break\n",
    "\n",
    "    cv2.imshow('Camera', frame)\n",
    "    key = cv2.waitKey(1)\n",
    "\n",
    "    # 스페이스바 누르면 저장\n",
    "    if key == 32:  # Spacebar\n",
    "        filename = os.path.join(save_dir, f\"image_{count:03d}.jpg\")\n",
    "        cv2.imwrite(filename, frame)\n",
    "        print(f\"✅ {filename} 저장됨\")\n",
    "        count += 1\n",
    "\n",
    "    # ESC 누르면 종료\n",
    "    elif key == 27:  # ESC\n",
    "        break\n",
    "\n",
    "cap.release()\n",
    "cv2.destroyAllWindows()\n"
   ]
  }
 ],
 "metadata": {
  "kernelspec": {
   "display_name": "genvenv",
   "language": "python",
   "name": "python3"
  },
  "language_info": {
   "codemirror_mode": {
    "name": "ipython",
    "version": 3
   },
   "file_extension": ".py",
   "mimetype": "text/x-python",
   "name": "python",
   "nbconvert_exporter": "python",
   "pygments_lexer": "ipython3",
   "version": "3.10.12"
  }
 },
 "nbformat": 4,
 "nbformat_minor": 5
}
