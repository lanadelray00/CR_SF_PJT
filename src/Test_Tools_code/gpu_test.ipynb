{
 "cells": [
  {
   "cell_type": "code",
   "execution_count": 5,
   "id": "d4bd9430",
   "metadata": {},
   "outputs": [
    {
     "name": "stdout",
     "output_type": "stream",
     "text": [
      "✅ GPU 사용 가능\n",
      "사용 중인 GPU: NVIDIA GeForce RTX 4060 Laptop GPU\n",
      "2.7.1+cu126\n",
      "연산 결과: tensor([[0.8268, 0.5871, 0.6922],\n",
      "        [0.6064, 1.0118, 0.8154],\n",
      "        [0.3374, 1.2387, 0.7652]], device='cuda:0')\n",
      "연산이 수행된 디바이스: cuda:0\n"
     ]
    }
   ],
   "source": [
    "# pytorch 확인\n",
    "import torch\n",
    "\n",
    "# GPU 사용 가능한지 확인\n",
    "if torch.cuda.is_available():\n",
    "    print(\"✅ GPU 사용 가능\")\n",
    "    print(\"사용 중인 GPU:\", torch.cuda.get_device_name(0))\n",
    "    print(torch.__version__)\n",
    "else:\n",
    "    print(\"❌ GPU 사용 불가\")\n",
    "\n",
    "# 예시: 간단한 연산을 GPU에서 수행\n",
    "x = torch.rand(3, 3).to('cuda' if torch.cuda.is_available() else 'cpu')\n",
    "y = torch.rand(3, 3).to('cuda' if torch.cuda.is_available() else 'cpu')\n",
    "z = x + y\n",
    "print(\"연산 결과:\", z)\n",
    "print(\"연산이 수행된 디바이스:\", z.device)\n"
   ]
  },
  {
   "cell_type": "code",
   "execution_count": 2,
   "id": "442cf44e",
   "metadata": {},
   "outputs": [
    {
     "name": "stderr",
     "output_type": "stream",
     "text": [
      "2025-06-08 19:30:12.631933: I tensorflow/core/util/port.cc:113] oneDNN custom operations are on. You may see slightly different numerical results due to floating-point round-off errors from different computation orders. To turn them off, set the environment variable `TF_ENABLE_ONEDNN_OPTS=0`.\n",
      "2025-06-08 19:30:12.760872: E external/local_xla/xla/stream_executor/cuda/cuda_dnn.cc:9261] Unable to register cuDNN factory: Attempting to register factory for plugin cuDNN when one has already been registered\n",
      "2025-06-08 19:30:12.760926: E external/local_xla/xla/stream_executor/cuda/cuda_fft.cc:607] Unable to register cuFFT factory: Attempting to register factory for plugin cuFFT when one has already been registered\n",
      "2025-06-08 19:30:12.783044: E external/local_xla/xla/stream_executor/cuda/cuda_blas.cc:1515] Unable to register cuBLAS factory: Attempting to register factory for plugin cuBLAS when one has already been registered\n",
      "2025-06-08 19:30:12.829313: I tensorflow/core/platform/cpu_feature_guard.cc:182] This TensorFlow binary is optimized to use available CPU instructions in performance-critical operations.\n",
      "To enable the following instructions: AVX2 AVX_VNNI FMA, in other operations, rebuild TensorFlow with the appropriate compiler flags.\n",
      "2025-06-08 19:30:13.451203: W tensorflow/compiler/tf2tensorrt/utils/py_utils.cc:38] TF-TRT Warning: Could not find TensorRT\n"
     ]
    },
    {
     "name": "stdout",
     "output_type": "stream",
     "text": [
      "TF version: 2.15.0\n",
      "GPU available: [PhysicalDevice(name='/physical_device:GPU:0', device_type='GPU')]\n"
     ]
    },
    {
     "name": "stderr",
     "output_type": "stream",
     "text": [
      "2025-06-08 19:30:14.189026: I external/local_xla/xla/stream_executor/cuda/cuda_executor.cc:901] successful NUMA node read from SysFS had negative value (-1), but there must be at least one NUMA node, so returning NUMA node zero. See more at https://github.com/torvalds/linux/blob/v6.0/Documentation/ABI/testing/sysfs-bus-pci#L344-L355\n",
      "2025-06-08 19:30:14.191939: I external/local_xla/xla/stream_executor/cuda/cuda_executor.cc:901] successful NUMA node read from SysFS had negative value (-1), but there must be at least one NUMA node, so returning NUMA node zero. See more at https://github.com/torvalds/linux/blob/v6.0/Documentation/ABI/testing/sysfs-bus-pci#L344-L355\n",
      "2025-06-08 19:30:14.192053: I external/local_xla/xla/stream_executor/cuda/cuda_executor.cc:901] successful NUMA node read from SysFS had negative value (-1), but there must be at least one NUMA node, so returning NUMA node zero. See more at https://github.com/torvalds/linux/blob/v6.0/Documentation/ABI/testing/sysfs-bus-pci#L344-L355\n"
     ]
    }
   ],
   "source": [
    "# tensorflow 확인\n",
    "import tensorflow as tf\n",
    "print(\"TF version:\", tf.__version__)\n",
    "print(\"GPU available:\", tf.config.list_physical_devices('GPU'))\n"
   ]
  },
  {
   "cell_type": "code",
   "execution_count": null,
   "id": "7b9e3d39",
   "metadata": {},
   "outputs": [],
   "source": [
    "# YOLO 확인\n",
    "from ultralytics import YOLO\n",
    "import cv2\n",
    "\n",
    "# 모델 로드 (예: nano 모델)\n",
    "model = YOLO(\"yolov8n.pt\")  # 또는 yolov8s.pt, yolov8m.pt 등\n",
    "\n",
    "# 웹캠 열기 (기본 카메라는 0)\n",
    "cap = cv2.VideoCapture(2)\n",
    "\n",
    "while cap.isOpened():\n",
    "    ret, frame = cap.read()\n",
    "    if not ret:\n",
    "        break\n",
    "\n",
    "    # YOLO로 프레임 추론\n",
    "    results = model(frame, verbose=False)\n",
    "\n",
    "    # 결과를 시각화한 이미지 얻기\n",
    "    annotated_frame = results[0].plot()\n",
    "\n",
    "    # 화면에 출력\n",
    "    cv2.imshow(\"YOLOv8 Webcam\", annotated_frame)\n",
    "\n",
    "    # 종료 조건 (ESC 키)\n",
    "    if cv2.waitKey(1) == 27:\n",
    "        break\n",
    "\n",
    "cap.release()\n",
    "cv2.destroyAllWindows()\n"
   ]
  },
  {
   "cell_type": "code",
   "execution_count": 3,
   "id": "6a416e7d",
   "metadata": {},
   "outputs": [
    {
     "name": "stdout",
     "output_type": "stream",
     "text": [
      "TensorFlow version: 2.15.0\n",
      "GPU available: [PhysicalDevice(name='/physical_device:GPU:0', device_type='GPU')]\n",
      "Result on GPU:\n",
      " tf.Tensor(\n",
      "[[ 1.863162  -2.2528744  2.8599558]\n",
      " [ 2.2718885 -2.2292876  1.6935599]\n",
      " [-3.2471611  1.1127292 -1.0638674]], shape=(3, 3), dtype=float32)\n"
     ]
    },
    {
     "name": "stderr",
     "output_type": "stream",
     "text": [
      "2025-06-07 02:30:03.247552: I external/local_xla/xla/stream_executor/cuda/cuda_executor.cc:901] successful NUMA node read from SysFS had negative value (-1), but there must be at least one NUMA node, so returning NUMA node zero. See more at https://github.com/torvalds/linux/blob/v6.0/Documentation/ABI/testing/sysfs-bus-pci#L344-L355\n",
      "2025-06-07 02:30:03.247683: I external/local_xla/xla/stream_executor/cuda/cuda_executor.cc:901] successful NUMA node read from SysFS had negative value (-1), but there must be at least one NUMA node, so returning NUMA node zero. See more at https://github.com/torvalds/linux/blob/v6.0/Documentation/ABI/testing/sysfs-bus-pci#L344-L355\n",
      "2025-06-07 02:30:03.247736: I external/local_xla/xla/stream_executor/cuda/cuda_executor.cc:901] successful NUMA node read from SysFS had negative value (-1), but there must be at least one NUMA node, so returning NUMA node zero. See more at https://github.com/torvalds/linux/blob/v6.0/Documentation/ABI/testing/sysfs-bus-pci#L344-L355\n",
      "2025-06-07 02:30:03.252447: I external/local_xla/xla/stream_executor/cuda/cuda_executor.cc:901] successful NUMA node read from SysFS had negative value (-1), but there must be at least one NUMA node, so returning NUMA node zero. See more at https://github.com/torvalds/linux/blob/v6.0/Documentation/ABI/testing/sysfs-bus-pci#L344-L355\n",
      "2025-06-07 02:30:03.252540: I external/local_xla/xla/stream_executor/cuda/cuda_executor.cc:901] successful NUMA node read from SysFS had negative value (-1), but there must be at least one NUMA node, so returning NUMA node zero. See more at https://github.com/torvalds/linux/blob/v6.0/Documentation/ABI/testing/sysfs-bus-pci#L344-L355\n",
      "2025-06-07 02:30:03.252626: I external/local_xla/xla/stream_executor/cuda/cuda_executor.cc:901] successful NUMA node read from SysFS had negative value (-1), but there must be at least one NUMA node, so returning NUMA node zero. See more at https://github.com/torvalds/linux/blob/v6.0/Documentation/ABI/testing/sysfs-bus-pci#L344-L355\n",
      "2025-06-07 02:30:03.252679: I tensorflow/core/common_runtime/gpu/gpu_device.cc:1929] Created device /job:localhost/replica:0/task:0/device:GPU:0 with 6284 MB memory:  -> device: 0, name: NVIDIA GeForce RTX 4060 Laptop GPU, pci bus id: 0000:01:00.0, compute capability: 8.9\n"
     ]
    }
   ],
   "source": [
    "import tensorflow as tf\n",
    "\n",
    "# TensorFlow 버전 출력\n",
    "print(\"TensorFlow version:\", tf.__version__)\n",
    "\n",
    "# 사용 가능한 GPU 디바이스 목록 출력\n",
    "gpus = tf.config.list_physical_devices('GPU')\n",
    "print(\"GPU available:\", gpus)\n",
    "\n",
    "# 간단한 GPU 연산 테스트\n",
    "if gpus:\n",
    "    with tf.device('/GPU:0'):\n",
    "        a = tf.random.normal([3, 3])\n",
    "        b = tf.random.normal([3, 3])\n",
    "        c = tf.matmul(a, b)\n",
    "        print(\"Result on GPU:\\n\", c)\n",
    "else:\n",
    "    print(\"No GPU found. Running on CPU.\")\n"
   ]
  },
  {
   "cell_type": "code",
   "execution_count": 1,
   "id": "4ea33672",
   "metadata": {},
   "outputs": [
    {
     "name": "stdout",
     "output_type": "stream",
     "text": [
      "✅ 카메라 연결 성공\n"
     ]
    }
   ],
   "source": [
    "# camera 연결 확인\n",
    "import cv2\n",
    "\n",
    "cap = cv2.VideoCapture('/dev/video0')\n",
    "if not cap.isOpened():\n",
    "    print(\"❌ 카메라 열기 실패\")\n",
    "else:\n",
    "    print(\"✅ 카메라 연결 성공\")\n",
    "    cap.release()\n",
    "    cv2.destroyAllWindows()"
   ]
  },
  {
   "cell_type": "code",
   "execution_count": null,
   "id": "1f686578",
   "metadata": {},
   "outputs": [
    {
     "name": "stdout",
     "output_type": "stream",
     "text": [
      "카메라 FPS: 0.0\n"
     ]
    }
   ],
   "source": [
    "# camera FPS 확인\n",
    "cap = cv2.VideoCapture('/dev/video0')\n",
    "fps = cap.get(cv2.CAP_PROP_FPS)\n",
    "print(\"카메라 FPS:\", fps)"
   ]
  },
  {
   "cell_type": "code",
   "execution_count": 4,
   "id": "8427886e",
   "metadata": {},
   "outputs": [],
   "source": [
    "import cv2\n",
    "\n",
    "# 0번 카메라 열기 (기본 웹캠)\n",
    "cap = cv2.VideoCapture('/dev/video2')\n",
    "\n",
    "if not cap.isOpened():\n",
    "    print(\"❌ 카메라를 열 수 없습니다.\")\n",
    "    exit()\n",
    "\n",
    "while True:\n",
    "    ret, frame = cap.read()\n",
    "    if not ret:\n",
    "        print(\"❌ 프레임을 읽을 수 없습니다.\")\n",
    "        break\n",
    "\n",
    "    # 영상 출력\n",
    "    cv2.imshow(\"Camera\", frame)\n",
    "\n",
    "    # 'q' 키 누르면 종료\n",
    "    if cv2.waitKey(1) & 0xFF == ord('q'):\n",
    "        break\n",
    "\n",
    "# 자원 해제\n",
    "cap.release()\n",
    "cv2.destroyAllWindows()\n"
   ]
  }
 ],
 "metadata": {
  "kernelspec": {
   "display_name": "genvenv",
   "language": "python",
   "name": "python3"
  },
  "language_info": {
   "codemirror_mode": {
    "name": "ipython",
    "version": 3
   },
   "file_extension": ".py",
   "mimetype": "text/x-python",
   "name": "python",
   "nbconvert_exporter": "python",
   "pygments_lexer": "ipython3",
   "version": "3.10.12"
  }
 },
 "nbformat": 4,
 "nbformat_minor": 5
}
