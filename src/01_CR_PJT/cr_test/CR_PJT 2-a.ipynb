{
 "cells": [
  {
   "cell_type": "code",
   "execution_count": null,
   "id": "c7a1a438",
   "metadata": {},
   "outputs": [],
   "source": [
    "import cv2\n",
    "import numpy as np\n",
    "import cv2.aruco as aruco\n",
    "\n",
    "cap = cv2.VideoCapture('/dev/video2')\n",
    "\n",
    "aruco_dict = aruco.getPredefinedDictionary(aruco.DICT_4X4_50)\n",
    "parameters = aruco.DetectorParameters()\n",
    "\n",
    "data = np.load('/home/choigh/WS/Test_Tools_code/calib_data.npz')\n",
    "camera_matrix = data['mtx']\n",
    "dist_coeffs = data['dist']\n",
    "marker_length = 0.03\n",
    "\n",
    "while True:\n",
    "    ret, frame = cap.read()\n",
    "    if not ret:\n",
    "        break\n",
    "\n",
    "    gray = cv2.cvtColor(frame, cv2.COLOR_BGR2GRAY)\n",
    "    corners, ids, rejected = aruco.detectMarkers(gray, aruco_dict, parameters=parameters)\n",
    "\n",
    "    if ids is not None:\n",
    "        rvecs, tvecs, _ = aruco.estimatePoseSingleMarkers(corners, 0.03, camera_matrix, dist_coeffs)\n",
    "\n",
    "        for i in range(len(ids)):\n",
    "            aruco.drawDetectedMarkers(frame, corners, ids)\n",
    "            cv2.drawFrameAxes(frame, camera_matrix, dist_coeffs, rvecs[i], tvecs[i], 0.03)\n",
    "\n",
    "            # 거리 정보 출력\n",
    "            z = tvecs[i][0][2]\n",
    "            print(f\"ID {ids[i][0]} | X={tvecs[i][0][0]:.3f}  Y={tvecs[i][0][1]:.3f}  Z={z:.3f}\")\n",
    "\n",
    "            # 화면 표시용 텍스트\n",
    "            cX, cY = int(corners[i][0][0][0]), int(corners[i][0][0][1])\n",
    "            cv2.putText(frame, f\"ID:{ids[i][0]} Z={z:.2f}m\", (cX, cY - 10),\n",
    "                        cv2.FONT_HERSHEY_SIMPLEX, 0.5, (0, 255, 0), 2)\n",
    "\n",
    "    cv2.imshow(\"Aruco Detection\", frame)\n",
    "    if cv2.waitKey(1) & 0xFF == 27:  # ESC to exit\n",
    "        break\n",
    "\n",
    "cap.release()\n",
    "cv2.destroyAllWindows()"
   ]
  },
  {
   "cell_type": "code",
   "execution_count": 9,
   "id": "c6bafb8d",
   "metadata": {},
   "outputs": [
    {
     "name": "stdout",
     "output_type": "stream",
     "text": [
      "평균 좌표: [-0.02101626 -0.01527056  0.21711994]\n",
      "표준편차(오차): [2.42861287e-17 1.04083409e-17 1.94289029e-16]\n"
     ]
    }
   ],
   "source": [
    "import numpy as np\n",
    "\n",
    "tvec_history = []\n",
    "\n",
    "for _ in range(100):\n",
    "    \n",
    "    corners, ids, rejected = aruco.detectMarkers(gray, aruco_dict, parameters=parameters)\n",
    "    rvecs, tvecs, _ = aruco.estimatePoseSingleMarkers(corners, 0.03, camera_matrix, dist_coeffs)\n",
    "\n",
    "    if ids is not None:\n",
    "        tvec_history.append(tvecs[0][0])  # 첫 번째 마커만 추적\n",
    "\n",
    "tvec_history = np.array(tvec_history)\n",
    "mean = np.mean(tvec_history, axis=0)\n",
    "std = np.std(tvec_history, axis=0)\n",
    "print(f\"평균 좌표: {mean}\")\n",
    "print(f\"표준편차(오차): {std}\")\n"
   ]
  },
  {
   "cell_type": "code",
   "execution_count": null,
   "id": "11d82ae5",
   "metadata": {},
   "outputs": [],
   "source": []
  }
 ],
 "metadata": {
  "kernelspec": {
   "display_name": "genvenv",
   "language": "python",
   "name": "python3"
  },
  "language_info": {
   "codemirror_mode": {
    "name": "ipython",
    "version": 3
   },
   "file_extension": ".py",
   "mimetype": "text/x-python",
   "name": "python",
   "nbconvert_exporter": "python",
   "pygments_lexer": "ipython3",
   "version": "3.10.12"
  }
 },
 "nbformat": 4,
 "nbformat_minor": 5
}
